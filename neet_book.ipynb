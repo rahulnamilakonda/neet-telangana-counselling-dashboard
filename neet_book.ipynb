{
 "cells": [
  {
   "cell_type": "code",
   "execution_count": null,
   "metadata": {},
   "outputs": [],
   "source": [
    "import pandas as pd\n",
    "import matplotlib.pyplot as plt\n",
    "import seaborn as sns\n",
    "import numpy as np\n",
    "import plotly_express as px\n",
    "from scipy.stats import percentileofscore\n",
    "import pdfplumber"
   ]
  },
  {
   "cell_type": "markdown",
   "metadata": {},
   "source": [
    "##### conv pdf to csv."
   ]
  },
  {
   "cell_type": "code",
   "execution_count": null,
   "metadata": {},
   "outputs": [],
   "source": [
    "\n",
    "# pdf = pdfplumber.open(r'C:\\Data-Science\\neet_tg_ranks.pdf')\n",
    "\n",
    "# columns = []\n",
    "# data = []\n",
    "# for i in range(2, len(pdf.pages)):\n",
    "#     page_data = pdf.pages[i].extract_tables()\n",
    "\n",
    "#     if not columns:\n",
    "#         columns = page_data[0][0]\n",
    "\n",
    "#     for i in range(1, len(page_data[0])):\n",
    "#         data.append(page_data[0][i])\n",
    "\n",
    "# neet_tg_ranks_df = pd.DataFrame(data=data, columns=columns)\n",
    "# neet_tg_ranks_df.to_csv('./neet_tg_data.csv', index=False)"
   ]
  },
  {
   "cell_type": "code",
   "execution_count": null,
   "metadata": {},
   "outputs": [],
   "source": [
    "neet_tg_ranks_df = pd.read_csv(r'C:\\Data-Science\\neet_tg_data.csv',)"
   ]
  },
  {
   "cell_type": "code",
   "execution_count": null,
   "metadata": {},
   "outputs": [],
   "source": [
    "df_columns = neet_tg_ranks_df.columns\n",
    "df_columns\n",
    "new_columns = {}\n",
    "for i in range(len(df_columns)):\n",
    "    new_columns[df_columns[i]] = df_columns[i].replace('\\n', '_').replace(' ','_').replace('.', '')\n",
    "\n",
    "new_columns"
   ]
  },
  {
   "cell_type": "code",
   "execution_count": null,
   "metadata": {},
   "outputs": [],
   "source": [
    "neet_tg_ranks_df.rename(columns=new_columns, inplace=True)"
   ]
  },
  {
   "cell_type": "code",
   "execution_count": null,
   "metadata": {},
   "outputs": [],
   "source": [
    "neet_tg_ranks_df.head() "
   ]
  },
  {
   "cell_type": "code",
   "execution_count": null,
   "metadata": {},
   "outputs": [],
   "source": [
    "neet_tg_ranks_df['NEET_UG_2025_SCORE'].describe()"
   ]
  },
  {
   "cell_type": "code",
   "execution_count": null,
   "metadata": {},
   "outputs": [],
   "source": [
    "per = np.float16(percentileofscore(neet_tg_ranks_df['NEET_UG_2025_SCORE'], 391, kind='rank')).round()\n",
    "print(f\"{per}% people are lesser than 391 across the telangana\")"
   ]
  },
  {
   "cell_type": "code",
   "execution_count": null,
   "metadata": {},
   "outputs": [],
   "source": [
    "df = neet_tg_ranks_df['CATEGORY'].value_counts().reset_index()\n",
    "plt.pie(df['count'], autopct=r\"%.0f%%\",labels=df['CATEGORY'], explode=[0.0, 0.0, 0.0, 0.0, 0.3])\n",
    "plt.title(\"Category Distribution\")\n",
    "plt.show()"
   ]
  },
  {
   "cell_type": "code",
   "execution_count": null,
   "metadata": {},
   "outputs": [],
   "source": [
    "sns.kdeplot(data=neet_tg_ranks_df['NEET_UG_2025_SCORE'],fill=True)\n",
    "plt.axvline(x=390)"
   ]
  },
  {
   "cell_type": "code",
   "execution_count": null,
   "metadata": {},
   "outputs": [],
   "source": [
    "\n",
    "mark = 391\n",
    "filtered_df = neet_tg_ranks_df[neet_tg_ranks_df['NEET_UG_2025_SCORE'] >= mark]\n",
    "print(f\"total students >= {mark} is \", filtered_df.shape[0])\n",
    "df = filtered_df['CATEGORY'].value_counts().reset_index()\n",
    "plt.figure(figsize=(25, 7))\n",
    "ax1 = plt.subplot(1, 3, 1)\n",
    "ax1.pie(df['count'], autopct=r\"%.0f%%\",labels=df['CATEGORY'], explode=[0.0, 0.0, 0.0, 0.0, 0.0])\n",
    "plt.title(\"Category Distribution\")\n",
    "ax2 = plt.subplot(1, 3, 2)\n",
    "ax2.bar(df['CATEGORY'],df['count'])\n",
    "ax2.set_title(f'Students Marks >= {mark}')\n",
    "ax2.annotate(f\"{df[df['CATEGORY'] == 'Gen-EWS']['count'].values[0]} People in EWS\",('Gen-EWS',df[df['CATEGORY'] == 'Gen-EWS']['count'].values[0]),('Gen-EWS', df[df['CATEGORY'] == 'Gen-EWS']['count'].values[0] + 300),arrowprops=dict(facecolor='black'))\n",
    "ax2.tick_params(axis='x',rotation=45)\n",
    "ax3 = plt.subplot(1, 3, 3)\n",
    "sns.kdeplot(ax=ax3, data=neet_tg_ranks_df[neet_tg_ranks_df['CATEGORY'] == 'Gen-EWS']['NEET_UG_2025_SCORE'],fill=True)\n",
    "ax3.axvline(x=mark)\n",
    "ax3.set_title(\"Gen-EWS Score Dist\")\n",
    "plt.show()"
   ]
  },
  {
   "cell_type": "code",
   "execution_count": null,
   "metadata": {},
   "outputs": [],
   "source": [
    "\n",
    "pd.crosstab(filtered_df['CATEGORY'], filtered_df['GENDER']).plot(kind='bar', rot=45)"
   ]
  },
  {
   "cell_type": "code",
   "execution_count": null,
   "metadata": {},
   "outputs": [],
   "source": [
    "filtered_df.loc[:,'marks_bins'] = pd.cut(filtered_df['NEET_UG_2025_SCORE'],bins=[390, 400, 450, 500, 550, 600, 650, 700, 720], labels=['390-400', '400-450', '450-500', '500-550', '550-600', '600-650', '650-700','700-720'])\n",
    "filtered_df"
   ]
  },
  {
   "cell_type": "code",
   "execution_count": null,
   "metadata": {},
   "outputs": [],
   "source": [
    "pd.pivot_table(data= filtered_df, index='marks_bins',columns=['CATEGORY'],values='NAME_OF_THE_CANDIDATE',aggfunc='count')"
   ]
  },
  {
   "cell_type": "code",
   "execution_count": null,
   "metadata": {},
   "outputs": [],
   "source": [
    "pd.pivot_table(data= filtered_df, index='marks_bins',columns=['CATEGORY'],values='NAME_OF_THE_CANDIDATE',aggfunc='count').plot(kind='bar',ylabel='Total Students', xlabel='marks range')"
   ]
  },
  {
   "cell_type": "code",
   "execution_count": null,
   "metadata": {},
   "outputs": [],
   "source": [
    "pd.pivot_table(data= filtered_df[filtered_df['GENDER'] == 'Female'], index='marks_bins',columns=['CATEGORY'],values='NAME_OF_THE_CANDIDATE',aggfunc='count')"
   ]
  },
  {
   "cell_type": "code",
   "execution_count": null,
   "metadata": {},
   "outputs": [],
   "source": [
    "pd.pivot_table(data= filtered_df[filtered_df['GENDER'] == 'Female'], index='marks_bins',columns=['CATEGORY'],values='NAME_OF_THE_CANDIDATE',aggfunc='count').plot(kind='bar',ylabel='Female Total Students', xlabel='marks range')"
   ]
  },
  {
   "cell_type": "code",
   "execution_count": null,
   "metadata": {},
   "outputs": [],
   "source": []
  }
 ],
 "metadata": {
  "kernelspec": {
   "display_name": ".venv",
   "language": "python",
   "name": "python3"
  },
  "language_info": {
   "codemirror_mode": {
    "name": "ipython",
    "version": 3
   },
   "file_extension": ".py",
   "mimetype": "text/x-python",
   "name": "python",
   "nbconvert_exporter": "python",
   "pygments_lexer": "ipython3",
   "version": "3.11.0"
  }
 },
 "nbformat": 4,
 "nbformat_minor": 2
}
